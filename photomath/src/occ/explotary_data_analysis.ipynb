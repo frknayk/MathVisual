{
 "cells": [
  {
   "cell_type": "code",
   "execution_count": null,
   "metadata": {},
   "outputs": [],
   "source": [
    "import pandas as pd\n",
    "import numpy as np\n",
    "import os \n",
    "import cv2\n",
    "import matplotlib.pyplot as plt"
   ]
  },
  {
   "cell_type": "markdown",
   "metadata": {},
   "source": [
    "## Download Dataset\n",
    "https://www.kaggle.com/clarencezhao/handwritten-math-symbol-dataset"
   ]
  },
  {
   "cell_type": "markdown",
   "metadata": {},
   "source": [
    "## Read dataset"
   ]
  },
  {
   "cell_type": "code",
   "execution_count": null,
   "metadata": {},
   "outputs": [],
   "source": [
    "dataset_path = \"/home/anton/Downloads/archive/train\"\n",
    "symbols_list = ['zero','one','two','three','four','five','six','seven','eight','nine','minus','plus','equal','div','decimal','times']\n",
    "train_image = []\n",
    "train_label = []\n",
    "for symbols_dir in os.listdir(dataset_path):\n",
    "    if symbols_dir.split()[0] in symbols_list:\n",
    "        for image in os.listdir(dataset_path + \"/\" + symbols_dir):\n",
    "            train_label.append(symbols_dir.split()[0])\n",
    "            train_image.append(dataset_path + \"/\" + symbols_dir + \"/\" + image)"
   ]
  },
  {
   "cell_type": "code",
   "execution_count": null,
   "metadata": {},
   "outputs": [],
   "source": [
    "eval_path = \"/home/anton/Downloads/archive/eval\"\n",
    "test_image = []\n",
    "test_label = []\n",
    "\n",
    "for symbols_dir in os.listdir(eval_path):\n",
    "    if symbols_dir.split()[0] in symbols_list:\n",
    "        for image in os.listdir(eval_path + \"/\" + symbols_dir):\n",
    "            test_label.append(symbols_dir.split()[0])\n",
    "            test_image.append(eval_path + \"/\" + symbols_dir + \"/\" + image)"
   ]
  },
  {
   "cell_type": "code",
   "execution_count": null,
   "metadata": {},
   "outputs": [],
   "source": [
    "print(\"Length of train_image : \" , len(train_image) , \" , length of labels list : \" ,len(train_label))\n",
    "print(\"Length of test_image : \" , len(test_image) , \" , length of labels list : \" ,len(test_label))"
   ]
  },
  {
   "cell_type": "code",
   "execution_count": null,
   "metadata": {},
   "outputs": [],
   "source": [
    "unique_test = list(set(test_label))\n",
    "unique_train = list(set(train_label))\n",
    "print(\"Length of test unique labels: \" , len(unique_test) , \" : \" , unique_test)\n",
    "print(\"Length of train unique labels: \" , len(unique_train) , \" : \" , unique_train)"
   ]
  },
  {
   "cell_type": "code",
   "execution_count": 29,
   "metadata": {},
   "outputs": [
    {
     "data": {
      "image/png": "[encoded data removed]",
      "text/plain": [
       "<Figure size 432x288 with 1 Axes>"
      ]
     },
     "metadata": {
      "needs_background": "light"
     },
     "output_type": "display_data"
    }
   ],
   "source": [
    "import random\n",
    "random_idx = random.randint(0,train_image.__len__())\n",
    "image = cv2.imread(train_image[random_idx])\n",
    "plt.imshow(image)\n",
    "plt.title(\"Label: \" + train_label[random_idx])\n",
    "plt.show()"
   ]
  },
  {
   "cell_type": "markdown",
   "metadata": {},
   "source": [
    "## Creating train test and validation set"
   ]
  },
  {
   "cell_type": "code",
   "execution_count": 30,
   "metadata": {},
   "outputs": [],
   "source": [
    "X_train = []\n",
    "X_test = []\n",
    "\n",
    "# laoding the images from the path\n",
    "for path in train_image:    \n",
    "    img = cv2.imread(path)\n",
    "    img = cv2.resize(img, (100, 100))\n",
    "    img = np.array(img)\n",
    "    X_train.append(img)\n",
    "\n",
    "for path in test_image:    \n",
    "    img = cv2.imread(path)\n",
    "    img = cv2.resize(img, (100, 100))\n",
    "    img = np.array(img)     \n",
    "    X_test.append(img)\n",
    "\n",
    "# creating numpy array from the images\n",
    "X_train = np.array(X_train)\n",
    "X_test = np.array(X_test)"
   ]
  },
  {
   "cell_type": "code",
   "execution_count": 31,
   "metadata": {},
   "outputs": [
    {
     "name": "stdout",
     "output_type": "stream",
     "text": [
      "X_train shape:  (7557, 100, 100, 3)\n",
      "X_test shape:  (1010, 100, 100, 3)\n"
     ]
    }
   ],
   "source": [
    "print(\"X_train shape: \", X_train.shape)\n",
    "print(\"X_test shape: \", X_test.shape)"
   ]
  },
  {
   "cell_type": "markdown",
   "metadata": {},
   "source": [
    "### normalizing the data"
   ]
  },
  {
   "cell_type": "code",
   "execution_count": 32,
   "metadata": {},
   "outputs": [],
   "source": [
    "X_train = X_train.astype('float32')\n",
    "X_test = X_test.astype('float32')\n",
    "X_train /= 255\n",
    "X_test /= 255"
   ]
  },
  {
   "cell_type": "code",
   "execution_count": 35,
   "metadata": {},
   "outputs": [],
   "source": [
    "from sklearn import preprocessing\n",
    "# label encoding the 16 symbols\n",
    "label_encoder = preprocessing.LabelEncoder()\n",
    "y_train_temp = label_encoder.fit_transform(train_label)\n",
    "y_test_temp = label_encoder.fit_transform(test_label)"
   ]
  },
  {
   "cell_type": "code",
   "execution_count": 45,
   "metadata": {},
   "outputs": [],
   "source": [
    "import keras\n",
    "from keras.models import Sequential\n",
    "from keras.layers import Dense, Dropout, Flatten, Conv2D, MaxPooling2D"
   ]
  },
  {
   "cell_type": "code",
   "execution_count": 39,
   "metadata": {},
   "outputs": [
    {
     "name": "stdout",
     "output_type": "stream",
     "text": [
      "y_train shape:  (7557, 16)\n",
      "y_test shape:  (1010, 16)\n"
     ]
    }
   ],
   "source": [
    "# creating matrix labels list\n",
    "y_train = keras.utils.np_utils.to_categorical(y_train_temp, 16)\n",
    "y_test = keras.utils.np_utils.to_categorical(y_test_temp, 16)\n",
    "\n",
    "print(\"y_train shape: \", y_train.shape)\n",
    "print(\"y_test shape: \", y_test.shape)"
   ]
  },
  {
   "cell_type": "markdown",
   "metadata": {},
   "source": [
    "## Creating Sequential model"
   ]
  },
  {
   "cell_type": "code",
   "execution_count": 40,
   "metadata": {},
   "outputs": [
    {
     "name": "stderr",
     "output_type": "stream",
     "text": [
      "2021-12-21 01:32:54.702525: I tensorflow/stream_executor/cuda/cuda_gpu_executor.cc:939] successful NUMA node read from SysFS had negative value (-1), but there must be at least one NUMA node, so returning NUMA node zero\n",
      "2021-12-21 01:32:54.703047: W tensorflow/stream_executor/platform/default/dso_loader.cc:64] Could not load dynamic library 'libcudart.so.11.0'; dlerror: libcudart.so.11.0: cannot open shared object file: No such file or directory; LD_LIBRARY_PATH: /home/anton/anaconda3/envs/photomath/lib/python3.7/site-packages/cv2/../../lib64:/home/anton/ea202012001_adas_asw_sop/build/devel/lib:/opt/ros/noetic/lib\n",
      "2021-12-21 01:32:54.703141: W tensorflow/stream_executor/platform/default/dso_loader.cc:64] Could not load dynamic library 'libcublas.so.11'; dlerror: libcublas.so.11: cannot open shared object file: No such file or directory; LD_LIBRARY_PATH: /home/anton/anaconda3/envs/photomath/lib/python3.7/site-packages/cv2/../../lib64:/home/anton/ea202012001_adas_asw_sop/build/devel/lib:/opt/ros/noetic/lib\n",
      "2021-12-21 01:32:54.703206: W tensorflow/stream_executor/platform/default/dso_loader.cc:64] Could not load dynamic library 'libcublasLt.so.11'; dlerror: libcublasLt.so.11: cannot open shared object file: No such file or directory; LD_LIBRARY_PATH: /home/anton/anaconda3/envs/photomath/lib/python3.7/site-packages/cv2/../../lib64:/home/anton/ea202012001_adas_asw_sop/build/devel/lib:/opt/ros/noetic/lib\n",
      "2021-12-21 01:32:54.723828: W tensorflow/stream_executor/platform/default/dso_loader.cc:64] Could not load dynamic library 'libcusolver.so.11'; dlerror: libcusolver.so.11: cannot open shared object file: No such file or directory; LD_LIBRARY_PATH: /home/anton/anaconda3/envs/photomath/lib/python3.7/site-packages/cv2/../../lib64:/home/anton/ea202012001_adas_asw_sop/build/devel/lib:/opt/ros/noetic/lib\n",
      "2021-12-21 01:32:54.723926: W tensorflow/stream_executor/platform/default/dso_loader.cc:64] Could not load dynamic library 'libcusparse.so.11'; dlerror: libcusparse.so.11: cannot open shared object file: No such file or directory; LD_LIBRARY_PATH: /home/anton/anaconda3/envs/photomath/lib/python3.7/site-packages/cv2/../../lib64:/home/anton/ea202012001_adas_asw_sop/build/devel/lib:/opt/ros/noetic/lib\n",
      "2021-12-21 01:32:54.723993: W tensorflow/stream_executor/platform/default/dso_loader.cc:64] Could not load dynamic library 'libcudnn.so.8'; dlerror: libcudnn.so.8: cannot open shared object file: No such file or directory; LD_LIBRARY_PATH: /home/anton/anaconda3/envs/photomath/lib/python3.7/site-packages/cv2/../../lib64:/home/anton/ea202012001_adas_asw_sop/build/devel/lib:/opt/ros/noetic/lib\n",
      "2021-12-21 01:32:54.724005: W tensorflow/core/common_runtime/gpu/gpu_device.cc:1850] Cannot dlopen some GPU libraries. Please make sure the missing libraries mentioned above are installed properly if you would like to use GPU. Follow the guide at https://www.tensorflow.org/install/gpu for how to download and setup the required libraries for your platform.\n",
      "Skipping registering GPU devices...\n",
      "2021-12-21 01:32:54.724870: I tensorflow/core/platform/cpu_feature_guard.cc:151] This TensorFlow binary is optimized with oneAPI Deep Neural Network Library (oneDNN) to use the following CPU instructions in performance-critical operations:  AVX2 FMA\n",
      "To enable them in other operations, rebuild TensorFlow with the appropriate compiler flags.\n"
     ]
    },
    {
     "name": "stdout",
     "output_type": "stream",
     "text": [
      "Model: \"sequential\"\n",
      "_________________________________________________________________\n",
      " Layer (type)                Output Shape              Param #   \n",
      "=================================================================\n",
      " conv2d (Conv2D)             (None, 100, 100, 32)      896       \n",
      "                                                                 \n",
      " conv2d_1 (Conv2D)           (None, 98, 98, 32)        9248      \n",
      "                                                                 \n",
      " max_pooling2d (MaxPooling2D  (None, 49, 49, 32)       0         \n",
      " )                                                               \n",
      "                                                                 \n",
      " dropout (Dropout)           (None, 49, 49, 32)        0         \n",
      "                                                                 \n",
      " conv2d_2 (Conv2D)           (None, 49, 49, 64)        18496     \n",
      "                                                                 \n",
      " conv2d_3 (Conv2D)           (None, 47, 47, 64)        36928     \n",
      "                                                                 \n",
      " max_pooling2d_1 (MaxPooling  (None, 23, 23, 64)       0         \n",
      " 2D)                                                             \n",
      "                                                                 \n",
      " dropout_1 (Dropout)         (None, 23, 23, 64)        0         \n",
      "                                                                 \n",
      " flatten (Flatten)           (None, 33856)             0         \n",
      "                                                                 \n",
      " dense (Dense)               (None, 512)               17334784  \n",
      "                                                                 \n",
      " dropout_2 (Dropout)         (None, 512)               0         \n",
      "                                                                 \n",
      " dense_1 (Dense)             (None, 16)                8208      \n",
      "                                                                 \n",
      "=================================================================\n",
      "Total params: 17,408,560\n",
      "Trainable params: 17,408,560\n",
      "Non-trainable params: 0\n",
      "_________________________________________________________________\n"
     ]
    }
   ],
   "source": [
    "# using sequential model for training\n",
    "model = Sequential()\n",
    "\n",
    "# 1st layer and taking input in this of shape 100x100x3 ->  100 x 100 pixles and 3 channels\n",
    "model.add(Conv2D(32, (3, 3), padding='same', input_shape=(100, 100, 3), activation=\"relu\"))\n",
    "model.add(Conv2D(32, (3, 3), activation=\"relu\"))\n",
    "\n",
    "# maxpooling will take highest value from a filter of 2*2 shape\n",
    "model.add(MaxPooling2D(pool_size=(2, 2)))\n",
    "\n",
    "# it will prevent overfitting by making it hard for the model to idenify the images\n",
    "model.add(Dropout(0.25))\n",
    "\n",
    "model.add(Conv2D(64, (3, 3), padding='same', activation=\"relu\"))\n",
    "model.add(Conv2D(64, (3, 3), activation=\"relu\"))\n",
    "model.add(MaxPooling2D(pool_size=(2, 2)))\n",
    "model.add(Dropout(0.25))\n",
    "\n",
    "model.add(Flatten())\n",
    "model.add(Dense(512, activation=\"relu\"))\n",
    "model.add(Dropout(0.5))\n",
    "\n",
    "# last layer predicts 16 labels\n",
    "model.add(Dense(16, activation=\"softmax\"))\n",
    "\n",
    "# Compile the model\n",
    "model.compile(\n",
    "    loss='categorical_crossentropy',\n",
    "    optimizer=\"adam\",\n",
    "    metrics=['accuracy']\n",
    ")\n",
    "\n",
    "model.summary()"
   ]
  },
  {
   "cell_type": "code",
   "execution_count": 51,
   "metadata": {},
   "outputs": [
    {
     "name": "stdout",
     "output_type": "stream",
     "text": [
      "('You must install pydot (`pip install pydot`) and install graphviz (see instructions at https://graphviz.gitlab.io/download/) ', 'for plot_model/model_to_dot to work.')\n"
     ]
    }
   ],
   "source": [
    "# displaying the model\n",
    "import keras\n",
    "keras.utils.vis_utils.plot_model(model)"
   ]
  },
  {
   "cell_type": "code",
   "execution_count": null,
   "metadata": {},
   "outputs": [],
   "source": []
  },
  {
   "cell_type": "code",
   "execution_count": null,
   "metadata": {},
   "outputs": [],
   "source": []
  }
 ],
 "metadata": {
  "interpreter": {
   "hash": "5ee2485aa751c599ce955f330c83e2017042ac7d4e00197592ebc9f7f9c5c897"
  },
  "kernelspec": {
   "display_name": "Python 3",
   "language": "python",
   "name": "python3"
  },
  "language_info": {
   "codemirror_mode": {
    "name": "ipython",
    "version": 3
   },
   "file_extension": ".py",
   "mimetype": "text/x-python",
   "name": "python",
   "nbconvert_exporter": "python",
   "pygments_lexer": "ipython3",
   "version": "3.7.11"
  }
 },
 "nbformat": 4,
 "nbformat_minor": 4
}
